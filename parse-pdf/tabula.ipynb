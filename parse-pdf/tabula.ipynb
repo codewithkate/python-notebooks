{
 "cells": [
  {
   "cell_type": "markdown",
   "metadata": {},
   "source": [
    "# Parse PDF\n",
    "\n",
    "Extract tables from a PDF using the tabula-py package."
   ]
  },
  {
   "cell_type": "code",
   "execution_count": 1,
   "metadata": {},
   "outputs": [],
   "source": [
    "# Libraries and Packages\n",
    "import pandas as pd\n",
    "import tabula\n",
    "import matplotlib as plt"
   ]
  },
  {
   "cell_type": "code",
   "execution_count": 2,
   "metadata": {},
   "outputs": [
    {
     "name": "stderr",
     "output_type": "stream",
     "text": [
      "Failed to import jpype dependencies. Fallback to subprocess.\n",
      "No module named 'jpype'\n"
     ]
    }
   ],
   "source": [
    "# convert PDF into CSV file\n",
    "tabula.convert_into(\"test.pdf\", \"output.csv\", output_format=\"csv\", pages='all')"
   ]
  },
  {
   "cell_type": "code",
   "execution_count": 3,
   "metadata": {},
   "outputs": [],
   "source": [
    "df = pd.read_csv('output.csv')"
   ]
  },
  {
   "cell_type": "code",
   "execution_count": 4,
   "metadata": {},
   "outputs": [
    {
     "name": "stdout",
     "output_type": "stream",
     "text": [
      "<class 'pandas.core.frame.DataFrame'>\n",
      "RangeIndex: 22508 entries, 0 to 22507\n",
      "Data columns (total 6 columns):\n",
      " #   Column                      Non-Null Count  Dtype \n",
      "---  ------                      --------------  ----- \n",
      " 0   10-Digit BBL                22508 non-null  object\n",
      "Number               22490 non-null  object\n",
      " 2   Street Name                 22508 non-null  object\n",
      "Footage    22508 non-null  object\n",
      " 4   Energy Star 1 to 100 Score  22508 non-null  object\n",
      "Grade     22508 non-null  object\n",
      "dtypes: object(6)\n",
      "memory usage: 1.0+ MB\n"
     ]
    }
   ],
   "source": [
    "df.info()"
   ]
  },
  {
   "cell_type": "code",
   "execution_count": 5,
   "metadata": {},
   "outputs": [
    {
     "data": {
      "text/html": [
       "<div>\n",
       "<style scoped>\n",
       "    .dataframe tbody tr th:only-of-type {\n",
       "        vertical-align: middle;\n",
       "    }\n",
       "\n",
       "    .dataframe tbody tr th {\n",
       "        vertical-align: top;\n",
       "    }\n",
       "\n",
       "    .dataframe thead th {\n",
       "        text-align: right;\n",
       "    }\n",
       "</style>\n",
       "<table border=\"1\" class=\"dataframe\">\n",
       "  <thead>\n",
       "    <tr style=\"text-align: right;\">\n",
       "      <th></th>\n",
       "      <th>10-Digit BBL</th>\n",
       "      <th>Street\\rNumber</th>\n",
       "      <th>Street Name</th>\n",
       "      <th>DOF Gross Square\\rFootage</th>\n",
       "      <th>Energy Star 1 to 100 Score</th>\n",
       "      <th>Energy\\rEfficiency\\rGrade</th>\n",
       "    </tr>\n",
       "  </thead>\n",
       "  <tbody>\n",
       "    <tr>\n",
       "      <th>0</th>\n",
       "      <td>1000010010</td>\n",
       "      <td>1</td>\n",
       "      <td>GOVERNORS ISLAND</td>\n",
       "      <td>2 ,598,091</td>\n",
       "      <td>missing required benchmarking\\rinformation</td>\n",
       "      <td>F</td>\n",
       "    </tr>\n",
       "    <tr>\n",
       "      <th>1</th>\n",
       "      <td>1000020002</td>\n",
       "      <td>10</td>\n",
       "      <td>SOUTH STREET</td>\n",
       "      <td>1 57,426</td>\n",
       "      <td>2</td>\n",
       "      <td>D</td>\n",
       "    </tr>\n",
       "    <tr>\n",
       "      <th>2</th>\n",
       "      <td>1000047501</td>\n",
       "      <td>1</td>\n",
       "      <td>WATER STREET</td>\n",
       "      <td>2 ,542,563</td>\n",
       "      <td>64</td>\n",
       "      <td>C</td>\n",
       "    </tr>\n",
       "    <tr>\n",
       "      <th>3</th>\n",
       "      <td>1000057501</td>\n",
       "      <td>125</td>\n",
       "      <td>BROAD STREET</td>\n",
       "      <td>1 ,354,691</td>\n",
       "      <td>76</td>\n",
       "      <td>B</td>\n",
       "    </tr>\n",
       "    <tr>\n",
       "      <th>4</th>\n",
       "      <td>1000080039</td>\n",
       "      <td>32</td>\n",
       "      <td>PEARL STREET</td>\n",
       "      <td>4 6,724</td>\n",
       "      <td>74</td>\n",
       "      <td>B</td>\n",
       "    </tr>\n",
       "  </tbody>\n",
       "</table>\n",
       "</div>"
      ],
      "text/plain": [
       "  10-Digit BBL Street\\rNumber       Street Name DOF Gross Square\\rFootage  \\\n",
       "0   1000010010              1  GOVERNORS ISLAND                2 ,598,091   \n",
       "1   1000020002             10      SOUTH STREET                  1 57,426   \n",
       "2   1000047501              1      WATER STREET                2 ,542,563   \n",
       "3   1000057501            125      BROAD STREET                1 ,354,691   \n",
       "4   1000080039             32      PEARL STREET                   4 6,724   \n",
       "\n",
       "                   Energy Star 1 to 100 Score Energy\\rEfficiency\\rGrade  \n",
       "0  missing required benchmarking\\rinformation                         F  \n",
       "1                                           2                         D  \n",
       "2                                          64                         C  \n",
       "3                                          76                         B  \n",
       "4                                          74                         B  "
      ]
     },
     "execution_count": 5,
     "metadata": {},
     "output_type": "execute_result"
    }
   ],
   "source": [
    "df.head()"
   ]
  },
  {
   "cell_type": "code",
   "execution_count": 6,
   "metadata": {},
   "outputs": [
    {
     "data": {
      "text/html": [
       "<div>\n",
       "<style scoped>\n",
       "    .dataframe tbody tr th:only-of-type {\n",
       "        vertical-align: middle;\n",
       "    }\n",
       "\n",
       "    .dataframe tbody tr th {\n",
       "        vertical-align: top;\n",
       "    }\n",
       "\n",
       "    .dataframe thead th {\n",
       "        text-align: right;\n",
       "    }\n",
       "</style>\n",
       "<table border=\"1\" class=\"dataframe\">\n",
       "  <thead>\n",
       "    <tr style=\"text-align: right;\">\n",
       "      <th></th>\n",
       "      <th>10-Digit BBL</th>\n",
       "      <th>Street\\rNumber</th>\n",
       "      <th>Street Name</th>\n",
       "      <th>DOF Gross Square\\rFootage</th>\n",
       "      <th>Energy Star 1 to 100 Score</th>\n",
       "      <th>Energy\\rEfficiency\\rGrade</th>\n",
       "    </tr>\n",
       "  </thead>\n",
       "  <tbody>\n",
       "    <tr>\n",
       "      <th>count</th>\n",
       "      <td>22508</td>\n",
       "      <td>22490</td>\n",
       "      <td>22508</td>\n",
       "      <td>22508</td>\n",
       "      <td>22508</td>\n",
       "      <td>22508</td>\n",
       "    </tr>\n",
       "    <tr>\n",
       "      <th>unique</th>\n",
       "      <td>21812</td>\n",
       "      <td>6192</td>\n",
       "      <td>2801</td>\n",
       "      <td>16081</td>\n",
       "      <td>102</td>\n",
       "      <td>6</td>\n",
       "    </tr>\n",
       "    <tr>\n",
       "      <th>top</th>\n",
       "      <td>10-Digit BBL</td>\n",
       "      <td>Street\\rNumber</td>\n",
       "      <td>Street Name</td>\n",
       "      <td>DOF Gross Square\\rFootage</td>\n",
       "      <td>missing required benchmarking\\rinformation</td>\n",
       "      <td>D</td>\n",
       "    </tr>\n",
       "    <tr>\n",
       "      <th>freq</th>\n",
       "      <td>696</td>\n",
       "      <td>696</td>\n",
       "      <td>696</td>\n",
       "      <td>696</td>\n",
       "      <td>1357</td>\n",
       "      <td>7538</td>\n",
       "    </tr>\n",
       "  </tbody>\n",
       "</table>\n",
       "</div>"
      ],
      "text/plain": [
       "        10-Digit BBL  Street\\rNumber  Street Name  DOF Gross Square\\rFootage  \\\n",
       "count          22508           22490        22508                      22508   \n",
       "unique         21812            6192         2801                      16081   \n",
       "top     10-Digit BBL  Street\\rNumber  Street Name  DOF Gross Square\\rFootage   \n",
       "freq             696             696          696                        696   \n",
       "\n",
       "                        Energy Star 1 to 100 Score Energy\\rEfficiency\\rGrade  \n",
       "count                                        22508                     22508  \n",
       "unique                                         102                         6  \n",
       "top     missing required benchmarking\\rinformation                         D  \n",
       "freq                                          1357                      7538  "
      ]
     },
     "execution_count": 6,
     "metadata": {},
     "output_type": "execute_result"
    }
   ],
   "source": [
    "df.describe()"
   ]
  },
  {
   "cell_type": "code",
   "execution_count": 7,
   "metadata": {},
   "outputs": [],
   "source": [
    "# Filter out duplicate table headers\n",
    "df_filtered = df.loc[(df['10-Digit BBL'] != '10-Digit BBL')\n",
    "       & (df['Street\\rNumber'] != 'Street\\rNumber')\n",
    "       & (df['Street Name'] != 'Street Name')\n",
    "       & (df['DOF Gross Square\\rFootage'] != 'DOF Gross Square\\rFootage')\n",
    "       & (df['Energy Star 1 to 100 Score'] != 'Energy Star 1 to 100 Score')\n",
    "       & (df['Energy\\rEfficiency\\rGrade'] != 'Energy\\rEfficiency\\rGrade')\n",
    "]"
   ]
  },
  {
   "cell_type": "code",
   "execution_count": 8,
   "metadata": {},
   "outputs": [],
   "source": [
    "# Filter out buildings without scores\n",
    "df_filtered = df_filtered.loc[df_filtered[\"Energy Star 1 to 100 Score\"] != 'missing required benchmarking\\rinformation']"
   ]
  },
  {
   "cell_type": "code",
   "execution_count": 9,
   "metadata": {},
   "outputs": [
    {
     "data": {
      "text/html": [
       "<div>\n",
       "<style scoped>\n",
       "    .dataframe tbody tr th:only-of-type {\n",
       "        vertical-align: middle;\n",
       "    }\n",
       "\n",
       "    .dataframe tbody tr th {\n",
       "        vertical-align: top;\n",
       "    }\n",
       "\n",
       "    .dataframe thead th {\n",
       "        text-align: right;\n",
       "    }\n",
       "</style>\n",
       "<table border=\"1\" class=\"dataframe\">\n",
       "  <thead>\n",
       "    <tr style=\"text-align: right;\">\n",
       "      <th></th>\n",
       "      <th>10-Digit BBL</th>\n",
       "      <th>Street\\rNumber</th>\n",
       "      <th>Street Name</th>\n",
       "      <th>DOF Gross Square\\rFootage</th>\n",
       "      <th>Energy Star 1 to 100 Score</th>\n",
       "      <th>Energy\\rEfficiency\\rGrade</th>\n",
       "    </tr>\n",
       "  </thead>\n",
       "  <tbody>\n",
       "    <tr>\n",
       "      <th>count</th>\n",
       "      <td>20455</td>\n",
       "      <td>20440</td>\n",
       "      <td>20455</td>\n",
       "      <td>20455</td>\n",
       "      <td>20455</td>\n",
       "      <td>20455</td>\n",
       "    </tr>\n",
       "    <tr>\n",
       "      <th>unique</th>\n",
       "      <td>20454</td>\n",
       "      <td>5922</td>\n",
       "      <td>2682</td>\n",
       "      <td>15272</td>\n",
       "      <td>100</td>\n",
       "      <td>4</td>\n",
       "    </tr>\n",
       "    <tr>\n",
       "      <th>top</th>\n",
       "      <td>3002080331</td>\n",
       "      <td>100</td>\n",
       "      <td>BROADWAY</td>\n",
       "      <td>3 6,000</td>\n",
       "      <td>100</td>\n",
       "      <td>D</td>\n",
       "    </tr>\n",
       "    <tr>\n",
       "      <th>freq</th>\n",
       "      <td>2</td>\n",
       "      <td>90</td>\n",
       "      <td>476</td>\n",
       "      <td>72</td>\n",
       "      <td>1144</td>\n",
       "      <td>7538</td>\n",
       "    </tr>\n",
       "  </tbody>\n",
       "</table>\n",
       "</div>"
      ],
      "text/plain": [
       "       10-Digit BBL Street\\rNumber Street Name DOF Gross Square\\rFootage  \\\n",
       "count         20455          20440       20455                     20455   \n",
       "unique        20454           5922        2682                     15272   \n",
       "top      3002080331            100    BROADWAY                   3 6,000   \n",
       "freq              2             90         476                        72   \n",
       "\n",
       "       Energy Star 1 to 100 Score Energy\\rEfficiency\\rGrade  \n",
       "count                       20455                     20455  \n",
       "unique                        100                         4  \n",
       "top                           100                         D  \n",
       "freq                         1144                      7538  "
      ]
     },
     "execution_count": 9,
     "metadata": {},
     "output_type": "execute_result"
    }
   ],
   "source": [
    "df_filtered.describe()"
   ]
  },
  {
   "cell_type": "code",
   "execution_count": 10,
   "metadata": {},
   "outputs": [],
   "source": [
    "df_filtered.to_csv('ratings_from_pdf.csv')"
   ]
  }
 ],
 "metadata": {
  "kernelspec": {
   "display_name": ".venv",
   "language": "python",
   "name": "python3"
  },
  "language_info": {
   "codemirror_mode": {
    "name": "ipython",
    "version": 3
   },
   "file_extension": ".py",
   "mimetype": "text/x-python",
   "name": "python",
   "nbconvert_exporter": "python",
   "pygments_lexer": "ipython3",
   "version": "3.11.0"
  }
 },
 "nbformat": 4,
 "nbformat_minor": 2
}
